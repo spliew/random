{
 "cells": [
  {
   "cell_type": "code",
   "execution_count": 1,
   "metadata": {},
   "outputs": [],
   "source": [
    "import numpy as np\n",
    "import scipy as sp\n",
    "import matplotlib\n",
    "import matplotlib.pyplot as plt\n",
    "import seaborn as sns\n",
    "sns.set(font_scale=2.0, rc={\"lines.linewidth\": 4.0})\n",
    "sns.set_style('ticks')\n",
    "import random\n",
    "\n",
    "from sklearn.datasets import load_svmlight_file\n"
   ]
  },
  {
   "cell_type": "code",
   "execution_count": 2,
   "metadata": {},
   "outputs": [],
   "source": [
    "npop = 100000\n",
    "n_l = 50 \n",
    "n_u = 500\n",
    "prior_l = 0.6\n",
    "prior_u = 0.6\n",
    "\n",
    "nsamp = 10\n",
    "nweight = 10\n",
    "ngam = 10\n",
    "gammas = np.arange(0,1,ngam)\n",
    "\n",
    "path = '/home/sengpei/semi-supervision/data/'\n",
    "X, y = load_svmlight_file(path+'SUSY.bz2')\n"
   ]
  },
  {
   "cell_type": "code",
   "execution_count": 4,
   "metadata": {},
   "outputs": [],
   "source": [
    "ind = random.sample(list(range(len(y))),min(npop,len(y)))\n",
    "\n",
    "yy = y[ind]\n",
    "xd = X.todense()\n",
    "xx = xd[ind,:]\n",
    "p_ind = np.where(yy==1)\n",
    "n_ind = np.where(yy==0)\n",
    "\n",
    "datp = xx[p_ind[0],:]\n",
    "datn = xx[n_ind[0],:]"
   ]
  },
  {
   "cell_type": "code",
   "execution_count": null,
   "metadata": {},
   "outputs": [],
   "source": []
  },
  {
   "cell_type": "code",
   "execution_count": 60,
   "metadata": {},
   "outputs": [],
   "source": [
    "def gen_num(n_l, prior_l):\n",
    "    n_p = np.random.binomial(n_l, prior_l)\n",
    "    n_n = n_l - n_p\n",
    "    return n_p, n_n\n",
    "\n",
    "def gen_dat(npp,nup, dtp):\n",
    "    np.random.shuffle(dtp)\n",
    "    return dtp[0:npp], dtp[npp:npp+nup]\n",
    "\n",
    "def weight(d,d0):\n",
    "    w = np.random.uniform(-1,1,d)\n",
    "    w0 = np.random.uniform(-1,1)\n",
    "    #w0 = w00*np.ones(d0)\n",
    "    return w,w0\n",
    "\n",
    "def tp_indicator_lm(datx,w,w0):\n",
    "    w00 = w0*np.ones(datx.shape[0])\n",
    "    q = np.sign(0.01 + np.sign( np.dot(datx,w)+w00))\n",
    "    ind = np.ones(datx.shape[0])\n",
    "    return np.count_nonzero(np.equal(q,ind)[0])"
   ]
  },
  {
   "cell_type": "code",
   "execution_count": 6,
   "metadata": {},
   "outputs": [],
   "source": []
  },
  {
   "cell_type": "code",
   "execution_count": 62,
   "metadata": {},
   "outputs": [],
   "source": [
    "tpp = []\n",
    "tppunu = []\n",
    "\n",
    "n_p, n_n = gen_num(n_l,prior_l)\n",
    "n_up, n_un = gen_num(n_u,prior_u)\n",
    "\n",
    "x_p, x_up = gen_dat(n_p,n_up,datp)\n",
    "x_n, x_un = gen_dat(n_n,n_un,datn)\n",
    "\n",
    "w, w0 = weight(x_p.shape[1],x_p.shape[0])\n",
    "\n",
    "tpp.append(tp_indicator_lm(x_p,w,w0))\n",
    "tpnu = tp_indicator_lm(x_up,w,w0)+tp_indicator_lm(x_un,w,w0)-tp_indicator_lm(x_n,w,w0)\n",
    "tppunu.append((1-gam)*tpp+gam*tpnu)"
   ]
  },
  {
   "cell_type": "code",
   "execution_count": 64,
   "metadata": {},
   "outputs": [
    {
     "data": {
      "text/plain": [
       "[386.2]"
      ]
     },
     "execution_count": 64,
     "metadata": {},
     "output_type": "execute_result"
    }
   ],
   "source": [
    "tpnu"
   ]
  },
  {
   "cell_type": "code",
   "execution_count": 58,
   "metadata": {},
   "outputs": [
    {
     "data": {
      "text/plain": [
       "2.0"
      ]
     },
     "execution_count": 58,
     "metadata": {},
     "output_type": "execute_result"
    }
   ],
   "source": [
    "np.var([1,2,3,4,5])"
   ]
  },
  {
   "cell_type": "code",
   "execution_count": 88,
   "metadata": {},
   "outputs": [
    {
     "name": "stdout",
     "output_type": "stream",
     "text": [
      "testing gam = 0.0\n",
      "testing gam = 0.2\n",
      "testing gam = 0.4\n",
      "testing gam = 0.6000000000000001\n",
      "testing gam = 0.8\n"
     ]
    }
   ],
   "source": [
    "npop = 100000\n",
    "n_l = 50 \n",
    "n_u = 500\n",
    "prior_l = 0.6\n",
    "prior_u = 0.6\n",
    "\n",
    "nsamp = 4\n",
    "nweight = 4\n",
    "ngam = 5\n",
    "gammas = np.arange(0,1,1/ngam)\n",
    "\n",
    "path = '/home/sengpei/semi-supervision/data/'\n",
    "# X, y = load_svmlight_file(path+'SUSY.bz2')\n",
    "\n",
    "meantpp=[]\n",
    "vartpp=[]\n",
    "meantppunu=[]\n",
    "vartppunu=[]\n",
    "\n",
    "for gam in gammas:\n",
    "    print('testing gam = '+str(gam))\n",
    "    tppw = []\n",
    "    tppunuw = []\n",
    "    for w in range(nweight):\n",
    "        w, w0 = weight(x_p.shape[1],x_p.shape[0])\n",
    "        tpp = []\n",
    "        tppunu = []\n",
    "        for samp in range(nsamp):\n",
    "            n_p, n_n = gen_num(n_l,prior_l)\n",
    "            n_up, n_un = gen_num(n_u,prior_u)\n",
    "\n",
    "            x_p, x_up = gen_dat(n_p,n_up,datp)\n",
    "            x_n, x_un = gen_dat(n_n,n_un,datn)\n",
    "            \n",
    "            tppvalue = tp_indicator_lm(x_p,w,w0)\n",
    "            tpp.append(tppvalue)\n",
    "            tpnu = tp_indicator_lm(x_up,w,w0)+tp_indicator_lm(x_un,w,w0)-tp_indicator_lm(x_n,w,w0)\n",
    "            tppunu.append((1-gam)*tppvalue+gam*tpnu)\n",
    "        tppw.append(np.var(tpp))\n",
    "        tppunuw.append(np.var(tppunu))\n",
    "    meantpp.append(np.mean(tppw))\n",
    "    vartpp.append(np.var(tppw))\n",
    "    meantppunu.append(np.mean(tppunuw))\n",
    "    vartppunu.append(np.var(tppunuw))"
   ]
  },
  {
   "cell_type": "code",
   "execution_count": 90,
   "metadata": {},
   "outputs": [
    {
     "data": {
      "text/plain": [
       "[11.15625, 2.390625, 5.40625, 7.4375, 14.265625]"
      ]
     },
     "execution_count": 90,
     "metadata": {},
     "output_type": "execute_result"
    }
   ],
   "source": [
    "meantpp"
   ]
  },
  {
   "cell_type": "code",
   "execution_count": 89,
   "metadata": {},
   "outputs": [
    {
     "data": {
      "text/plain": [
       "[11.15625, 4.973124999999991, 6.3437500000000115, 77.69562500000005, 29.135625]"
      ]
     },
     "execution_count": 89,
     "metadata": {},
     "output_type": "execute_result"
    }
   ],
   "source": [
    "meantppunu"
   ]
  },
  {
   "cell_type": "code",
   "execution_count": 91,
   "metadata": {},
   "outputs": [],
   "source": [
    "tpp = []\n",
    "tppunu = []\n",
    "for samp in range(20):\n",
    "    n_p, n_n = gen_num(n_l,prior_l)\n",
    "    n_up, n_un = gen_num(n_u,prior_u)\n",
    "\n",
    "    x_p, x_up = gen_dat(n_p,n_up,datp)\n",
    "    x_n, x_un = gen_dat(n_n,n_un,datn)\n",
    "            \n",
    "    tppvalue = tp_indicator_lm(x_p,w,w0)\n",
    "    tpp.append(tppvalue)\n",
    "    tpnu = tp_indicator_lm(x_up,w,w0)+tp_indicator_lm(x_un,w,w0)-tp_indicator_lm(x_n,w,w0)\n",
    "    tppunu.append((1-gam)*tppvalue+gam*tpnu)"
   ]
  },
  {
   "cell_type": "code",
   "execution_count": 97,
   "metadata": {},
   "outputs": [
    {
     "data": {
      "text/plain": [
       "8.627500000000001"
      ]
     },
     "execution_count": 97,
     "metadata": {},
     "output_type": "execute_result"
    }
   ],
   "source": [
    "np.var(tpp)"
   ]
  },
  {
   "cell_type": "code",
   "execution_count": 98,
   "metadata": {},
   "outputs": [
    {
     "data": {
      "text/plain": [
       "61.325099999999985"
      ]
     },
     "execution_count": 98,
     "metadata": {},
     "output_type": "execute_result"
    }
   ],
   "source": [
    "np.var(tppunu)"
   ]
  },
  {
   "cell_type": "code",
   "execution_count": null,
   "metadata": {},
   "outputs": [],
   "source": []
  }
 ],
 "metadata": {
  "kernelspec": {
   "display_name": "semi",
   "language": "python",
   "name": "semi"
  },
  "language_info": {
   "codemirror_mode": {
    "name": "ipython",
    "version": 3
   },
   "file_extension": ".py",
   "mimetype": "text/x-python",
   "name": "python",
   "nbconvert_exporter": "python",
   "pygments_lexer": "ipython3",
   "version": "3.6.5"
  }
 },
 "nbformat": 4,
 "nbformat_minor": 2
}
